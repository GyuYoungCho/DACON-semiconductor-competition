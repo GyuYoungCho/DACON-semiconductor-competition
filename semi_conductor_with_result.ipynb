{
  "nbformat": 4,
  "nbformat_minor": 0,
  "metadata": {
    "colab": {
      "name": "semi-conductor.ipynb",
      "provenance": [],
      "collapsed_sections": [],
      "authorship_tag": "ABX9TyNCB7YzYBwTaTvQMM5DLNLV",
      "include_colab_link": true
    },
    "kernelspec": {
      "name": "python3",
      "display_name": "Python 3"
    },
    "accelerator": "GPU"
  },
  "cells": [
    {
      "cell_type": "markdown",
      "metadata": {
        "id": "view-in-github",
        "colab_type": "text"
      },
      "source": [
        "<a href=\"https://colab.research.google.com/github/Inha-AI/DACON-semiconductor-competition/blob/feature%2Fys/semi_conductor_with_result.ipynb\" target=\"_parent\"><img src=\"https://colab.research.google.com/assets/colab-badge.svg\" alt=\"Open In Colab\"/></a>"
      ]
    },
    {
      "cell_type": "code",
      "metadata": {
        "id": "ZQaDY2IYoigW",
        "colab_type": "code",
        "outputId": "052c8e57-b832-4c45-cbd5-6cb9c4bed21a",
        "colab": {
          "base_uri": "https://localhost:8080/",
          "height": 127
        }
      },
      "source": [
        "from google.colab import drive\n",
        "drive.mount('/content/drive')"
      ],
      "execution_count": 0,
      "outputs": [
        {
          "output_type": "stream",
          "text": [
            "Go to this URL in a browser: https://accounts.google.com/o/oauth2/auth?client_id=947318989803-6bn6qk8qdgf4n4g3pfee6491hc0brc4i.apps.googleusercontent.com&redirect_uri=urn%3aietf%3awg%3aoauth%3a2.0%3aoob&response_type=code&scope=email%20https%3a%2f%2fwww.googleapis.com%2fauth%2fdocs.test%20https%3a%2f%2fwww.googleapis.com%2fauth%2fdrive%20https%3a%2f%2fwww.googleapis.com%2fauth%2fdrive.photos.readonly%20https%3a%2f%2fwww.googleapis.com%2fauth%2fpeopleapi.readonly\n",
            "\n",
            "Enter your authorization code:\n",
            "··········\n",
            "Mounted at /content/drive\n"
          ],
          "name": "stdout"
        }
      ]
    },
    {
      "cell_type": "code",
      "metadata": {
        "id": "4p2xesmdoqTZ",
        "colab_type": "code",
        "outputId": "459e2969-0836-42d5-fece-aef069dfa09a",
        "colab": {
          "base_uri": "https://localhost:8080/",
          "height": 82
        }
      },
      "source": [
        "import pandas as pd\n",
        "from sklearn import preprocessing\n",
        "from keras.layers import Reshape\n",
        "\n",
        "class Dataset:\n",
        "  def __init__(self):\n",
        "   (train_x, train_y), test_x = load_data()\n",
        "\n",
        "   train_x = adjustScale(train_x)\n",
        "   self.train_x = to3D(train_x)\n",
        "\n",
        "   self.train_y = train_y\n",
        "\n",
        "   test_x = adjustScale(test_x)\n",
        "   self.test_x = to3D(test_x)\n",
        "\n",
        "def load_data():\n",
        "  directory = '/content/drive/My Drive/'\n",
        "  train = pd.read_csv(directory + 'train.csv')\n",
        "  test = pd.read_csv(directory + 'test.csv')\n",
        "\n",
        "  train_x = train.iloc[:,4:]\n",
        "  train_y = train.iloc[:,0:4]\n",
        "  test_x = test.iloc[:,1:]\n",
        "\n",
        "  return (train_x, train_y), test_x\n",
        "\n",
        "def adjustScale(dataset):\n",
        "  scaler = preprocessing.MinMaxScaler()\n",
        "  return scaler.fit_transform(dataset)\n",
        "\n",
        "def to3D(dataset):\n",
        "  d = dataset.reshape(dataset.shape[0], dataset.shape[1], 1)\n",
        "  return d"
      ],
      "execution_count": 0,
      "outputs": [
        {
          "output_type": "stream",
          "text": [
            "Using TensorFlow backend.\n"
          ],
          "name": "stderr"
        },
        {
          "output_type": "display_data",
          "data": {
            "text/html": [
              "<p style=\"color: red;\">\n",
              "The default version of TensorFlow in Colab will soon switch to TensorFlow 2.x.<br>\n",
              "We recommend you <a href=\"https://www.tensorflow.org/guide/migrate\" target=\"_blank\">upgrade</a> now \n",
              "or ensure your notebook will continue to use TensorFlow 1.x via the <code>%tensorflow_version 1.x</code> magic:\n",
              "<a href=\"https://colab.research.google.com/notebooks/tensorflow_version.ipynb\" target=\"_blank\">more info</a>.</p>\n"
            ],
            "text/plain": [
              "<IPython.core.display.HTML object>"
            ]
          },
          "metadata": {
            "tags": []
          }
        }
      ]
    },
    {
      "cell_type": "code",
      "metadata": {
        "id": "yuQnB8lrrO1d",
        "colab_type": "code",
        "colab": {}
      },
      "source": [
        "from keras import models, layers\n",
        "\n",
        "class Machine():\n",
        "  def __init__(self):\n",
        "    self.data = Dataset()\n",
        "    shape = self.data.train_x.shape[1:]\n",
        "    self.model = rnn_model(shape)\n",
        "\n",
        "  def run(self, epochs=100):\n",
        "    d = self.data\n",
        "    train_x, train_y, test_x = d.train_x, d.train_y, d.test_x\n",
        "    m = self.model\n",
        "    history = m.fit(train_x, train_y, epochs=epochs, batch_size=1000, validation_split=0.2)\n",
        "\n",
        "    # 학습 과정\n",
        "    %matplotlib inline\n",
        "    import matplotlib.pyplot as plt\n",
        "\n",
        "    fig, loss_ax = plt.subplots()\n",
        "\n",
        "    acc_ax = loss_ax.twinx()\n",
        "\n",
        "    loss_ax.plot(hist.history['loss'], 'y', label='train loss')\n",
        "    loss_ax.plot(hist.history['val_loss'], 'r', label='val loss')\n",
        "\n",
        "    acc_ax.plot(hist.history['acc'], 'b', label='train acc')\n",
        "    acc_ax.plot(hist.history['val_acc'], 'g', label='val acc')\n",
        "\n",
        "    loss_ax.set_xlabel('epoch')\n",
        "    loss_ax.set_ylabel('loss')\n",
        "    acc_ax.set_ylabel('mean absolute error')\n",
        "\n",
        "    loss_ax.legend(loc='upper left')\n",
        "    acc_ax.legend(loc='lower left')\n",
        "\n",
        "    plt.show()\n",
        "\n",
        "    # 예측값을 생성합니다.\n",
        "    pred_test = model.predict(test_X)\n",
        "\n",
        "    # submission 파일을 생성합니다.\n",
        "    sample_sub = pd.read_csv('/content/drive/My Drive/sample_submission.csv', index_col=0)\n",
        "    submission = sample_sub+pred_test\n",
        "    submission.to_csv('/content/drive/My Drive/submission_1.csv')\n",
        "\n",
        "    # 학습된 모델을 저장합니다.\n",
        "    model.save('/content/drive/My Drive/model_1.h5')"
      ],
      "execution_count": 0,
      "outputs": []
    },
    {
      "cell_type": "code",
      "metadata": {
        "id": "4h5AQpQpxnjT",
        "colab_type": "code",
        "colab": {}
      },
      "source": [
        "from keras.layers import Reshape\n",
        "\n",
        "def rnn_model(shape):\n",
        "    model = models.Sequential()\n",
        "    model.add(layers.LSTM(350, return_sequences=True, input_shape=(226, 1)))\n",
        "    model.add(layers.Activation('relu'))\n",
        "    model.add(layers.Dropout(0.2))\n",
        "    model.add(layers.LSTM(200, return_sequences=True))\n",
        "    model.add(layers.Activation('relu'))\n",
        "    model.add(layers.Dropout(0.3))\n",
        "    model.add(layers.LSTM(100, return_sequences=True))\n",
        "    model.add(layers.Activation('relu'))\n",
        "    model.add(layers.Dropout(0.4))\n",
        "    model.add(layers.LSTM(50, return_sequences=True))\n",
        "    model.add(layers.Activation('relu'))\n",
        "    model.add(layers.Dropout(0.5))\n",
        "    model.add(layers.LSTM(25, return_sequences=True))\n",
        "    model.add(layers.Activation('relu'))\n",
        "    model.add(layers.Flatten())\n",
        "    model.add(layers.Dense(10, activation='relu', input_shape=(4,)))\n",
        "    model.add(layers.Dense(4, activation='softmax', input_shape=(4,)))\n",
        "\n",
        "    model.compile(optimizer='nadam', loss='mse', metrics=['accuracy'])\n",
        "    return model"
      ],
      "execution_count": 0,
      "outputs": []
    },
    {
      "cell_type": "code",
      "metadata": {
        "id": "Du1j0tm0v7IX",
        "colab_type": "code",
        "colab": {}
      },
      "source": [
        "def main():        \n",
        "    machine = Machine() \n",
        "    machine.run(epochs=100)"
      ],
      "execution_count": 0,
      "outputs": []
    },
    {
      "cell_type": "code",
      "metadata": {
        "id": "LJ6rz6VFv-S7",
        "colab_type": "code",
        "outputId": "d4d9e493-e673-4b24-e4fe-ab6811733eed",
        "colab": {
          "base_uri": "https://localhost:8080/",
          "height": 1000
        }
      },
      "source": [
        "if __name__ == '__main__':\n",
        "    main()"
      ],
      "execution_count": 0,
      "outputs": [
        {
          "output_type": "stream",
          "text": [
            "WARNING:tensorflow:From /usr/local/lib/python3.6/dist-packages/keras/backend/tensorflow_backend.py:66: The name tf.get_default_graph is deprecated. Please use tf.compat.v1.get_default_graph instead.\n",
            "\n",
            "WARNING:tensorflow:From /usr/local/lib/python3.6/dist-packages/keras/backend/tensorflow_backend.py:541: The name tf.placeholder is deprecated. Please use tf.compat.v1.placeholder instead.\n",
            "\n",
            "WARNING:tensorflow:From /usr/local/lib/python3.6/dist-packages/keras/backend/tensorflow_backend.py:4432: The name tf.random_uniform is deprecated. Please use tf.random.uniform instead.\n",
            "\n",
            "WARNING:tensorflow:From /usr/local/lib/python3.6/dist-packages/keras/backend/tensorflow_backend.py:148: The name tf.placeholder_with_default is deprecated. Please use tf.compat.v1.placeholder_with_default instead.\n",
            "\n",
            "WARNING:tensorflow:From /usr/local/lib/python3.6/dist-packages/keras/backend/tensorflow_backend.py:3733: calling dropout (from tensorflow.python.ops.nn_ops) with keep_prob is deprecated and will be removed in a future version.\n",
            "Instructions for updating:\n",
            "Please use `rate` instead of `keep_prob`. Rate should be set to `rate = 1 - keep_prob`.\n",
            "WARNING:tensorflow:From /usr/local/lib/python3.6/dist-packages/keras/optimizers.py:793: The name tf.train.Optimizer is deprecated. Please use tf.compat.v1.train.Optimizer instead.\n",
            "\n",
            "WARNING:tensorflow:From /usr/local/lib/python3.6/dist-packages/tensorflow_core/python/ops/math_grad.py:1424: where (from tensorflow.python.ops.array_ops) is deprecated and will be removed in a future version.\n",
            "Instructions for updating:\n",
            "Use tf.where in 2.0, which has the same broadcast rule as np.where\n",
            "WARNING:tensorflow:From /usr/local/lib/python3.6/dist-packages/keras/backend/tensorflow_backend.py:1033: The name tf.assign_add is deprecated. Please use tf.compat.v1.assign_add instead.\n",
            "\n",
            "WARNING:tensorflow:From /usr/local/lib/python3.6/dist-packages/keras/backend/tensorflow_backend.py:1020: The name tf.assign is deprecated. Please use tf.compat.v1.assign instead.\n",
            "\n",
            "WARNING:tensorflow:From /usr/local/lib/python3.6/dist-packages/keras/backend/tensorflow_backend.py:3005: The name tf.Session is deprecated. Please use tf.compat.v1.Session instead.\n",
            "\n",
            "Train on 648000 samples, validate on 162000 samples\n",
            "Epoch 1/100\n",
            "WARNING:tensorflow:From /usr/local/lib/python3.6/dist-packages/keras/backend/tensorflow_backend.py:190: The name tf.get_default_session is deprecated. Please use tf.compat.v1.get_default_session instead.\n",
            "\n",
            "WARNING:tensorflow:From /usr/local/lib/python3.6/dist-packages/keras/backend/tensorflow_backend.py:197: The name tf.ConfigProto is deprecated. Please use tf.compat.v1.ConfigProto instead.\n",
            "\n",
            "WARNING:tensorflow:From /usr/local/lib/python3.6/dist-packages/keras/backend/tensorflow_backend.py:207: The name tf.global_variables is deprecated. Please use tf.compat.v1.global_variables instead.\n",
            "\n",
            "WARNING:tensorflow:From /usr/local/lib/python3.6/dist-packages/keras/backend/tensorflow_backend.py:216: The name tf.is_variable_initialized is deprecated. Please use tf.compat.v1.is_variable_initialized instead.\n",
            "\n",
            "WARNING:tensorflow:From /usr/local/lib/python3.6/dist-packages/keras/backend/tensorflow_backend.py:223: The name tf.variables_initializer is deprecated. Please use tf.compat.v1.variables_initializer instead.\n",
            "\n",
            "648000/648000 [==============================] - 1855s 3ms/step - loss: 28664.4554 - acc: 0.2970 - val_loss: 42539.4167 - val_acc: 0.0736\n",
            "Epoch 2/100\n",
            "648000/648000 [==============================] - 1830s 3ms/step - loss: 28664.4166 - acc: 0.2868 - val_loss: 42539.4167 - val_acc: 0.0736\n",
            "Epoch 3/100\n",
            "648000/648000 [==============================] - 1781s 3ms/step - loss: 28664.4201 - acc: 0.2869 - val_loss: 42539.4167 - val_acc: 0.0736\n",
            "Epoch 4/100\n",
            "648000/648000 [==============================] - 1745s 3ms/step - loss: 28664.4166 - acc: 0.2868 - val_loss: 42539.4167 - val_acc: 0.0736\n",
            "Epoch 5/100\n",
            "648000/648000 [==============================] - 1738s 3ms/step - loss: 28664.4166 - acc: 0.2868 - val_loss: 42539.4167 - val_acc: 0.0736\n",
            "Epoch 6/100\n",
            "648000/648000 [==============================] - 1743s 3ms/step - loss: 28664.4167 - acc: 0.2868 - val_loss: 42539.4167 - val_acc: 0.0736\n",
            "Epoch 7/100\n",
            "648000/648000 [==============================] - 1742s 3ms/step - loss: 28664.4167 - acc: 0.2868 - val_loss: 42539.4167 - val_acc: 0.0736\n",
            "Epoch 8/100\n",
            "648000/648000 [==============================] - 1740s 3ms/step - loss: 28664.4165 - acc: 0.2868 - val_loss: 42539.4167 - val_acc: 0.0736\n",
            "Epoch 9/100\n",
            "648000/648000 [==============================] - 1746s 3ms/step - loss: 28664.4167 - acc: 0.2868 - val_loss: 42539.4167 - val_acc: 0.0736\n",
            "Epoch 10/100\n",
            "648000/648000 [==============================] - 1745s 3ms/step - loss: 28664.4166 - acc: 0.2868 - val_loss: 42539.4167 - val_acc: 0.0736\n",
            "Epoch 11/100\n",
            "648000/648000 [==============================] - 1742s 3ms/step - loss: 28664.4166 - acc: 0.2868 - val_loss: 42539.4167 - val_acc: 0.0736\n",
            "Epoch 12/100\n",
            "648000/648000 [==============================] - 1742s 3ms/step - loss: 28664.4166 - acc: 0.2868 - val_loss: 42539.4167 - val_acc: 0.0736\n",
            "Epoch 13/100\n",
            "648000/648000 [==============================] - 1763s 3ms/step - loss: 28664.4166 - acc: 0.2868 - val_loss: 42539.4167 - val_acc: 0.0736\n",
            "Epoch 14/100\n",
            "648000/648000 [==============================] - 1818s 3ms/step - loss: 28664.4166 - acc: 0.2868 - val_loss: 42539.4167 - val_acc: 0.0736\n",
            "Epoch 15/100\n",
            "648000/648000 [==============================] - 1803s 3ms/step - loss: 28664.4167 - acc: 0.2868 - val_loss: 42539.4167 - val_acc: 0.0736\n",
            "Epoch 16/100\n",
            "648000/648000 [==============================] - 1755s 3ms/step - loss: 28664.4167 - acc: 0.2868 - val_loss: 42539.4167 - val_acc: 0.0736\n",
            "Epoch 17/100\n",
            "186000/648000 [=======>......................] - ETA: 19:20 - loss: 28684.4930 - acc: 0.2863"
          ],
          "name": "stdout"
        }
      ]
    }
  ]
}