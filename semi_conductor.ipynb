{
 "cells": [
  {
   "cell_type": "code",
   "execution_count": 1,
   "metadata": {
    "colab": {
     "base_uri": "https://localhost:8080/",
     "height": 127
    },
    "colab_type": "code",
    "id": "ZQaDY2IYoigW",
    "outputId": "65281b59-8253-4911-bc2c-1cc340812a1a"
   },
   "outputs": [],
   "source": [
    "import warnings\n",
    "warnings.filterwarnings('ignore')"
   ]
  },
  {
   "cell_type": "code",
   "execution_count": 2,
   "metadata": {
    "colab": {
     "base_uri": "https://localhost:8080/",
     "height": 82
    },
    "colab_type": "code",
    "id": "4p2xesmdoqTZ",
    "outputId": "b1e489dc-5d0c-4b3c-8404-b4d86fb42d93"
   },
   "outputs": [
    {
     "name": "stderr",
     "output_type": "stream",
     "text": [
      "Using TensorFlow backend.\n"
     ]
    }
   ],
   "source": [
    "import pandas as pd\n",
    "from sklearn import preprocessing\n",
    "from keras.layers import Reshape\n",
    "\n",
    "class Dataset:\n",
    "  def __init__(self):\n",
    "   (train_x, train_y), test_x = load_data()\n",
    "\n",
    "   train_x = adjustScale(train_x)\n",
    "   self.train_x = to3D(train_x)\n",
    "\n",
    "   self.train_y = train_y\n",
    "\n",
    "   test_x = adjustScale(test_x)\n",
    "   self.test_x = to3D(test_x)\n",
    "\n",
    "def load_data():\n",
    "  train = pd.read_csv('train.csv')\n",
    "  test = pd.read_csv('test.csv')  \n",
    "\n",
    "  train_x = train.iloc[:,4:]\n",
    "  train_y = train.iloc[:,0:4]\n",
    "  test_x = test.iloc[:,1:]\n",
    "\n",
    "  return (train_x, train_y), test_x\n",
    "\n",
    "def adjustScale(dataset):\n",
    "  scaler = preprocessing.MinMaxScaler()\n",
    "  return scaler.fit_transform(dataset)\n",
    "\n",
    "def to3D(dataset):\n",
    "  d = dataset.reshape(dataset.shape[0], dataset.shape[1], 1)\n",
    "  return d"
   ]
  },
  {
   "cell_type": "code",
   "execution_count": 3,
   "metadata": {
    "colab": {},
    "colab_type": "code",
    "id": "yuQnB8lrrO1d"
   },
   "outputs": [],
   "source": [
    "from keras import models, layers\n",
    "\n",
    "class Machine():\n",
    "  def __init__(self):\n",
    "    self.data = Dataset()\n",
    "    shape = self.data.train_x.shape[1:]\n",
    "    self.model = rnn_model(shape)\n",
    "\n",
    "  def run(self, epochs=100):\n",
    "    d = self.data\n",
    "    train_x, train_y, test_x = d.train_x, d.train_y, d.test_x\n",
    "    m = self.model\n",
    "    history = m.fit(train_x, train_y, epochs=epochs, batch_size=1000, validation_split=0.2)\n",
    "\n",
    "    # 학습 과정\n",
    "    %matplotlib inline\n",
    "    import matplotlib.pyplot as plt\n",
    "\n",
    "    fig, loss_ax = plt.subplots()\n",
    "\n",
    "    acc_ax = loss_ax.twinx()\n",
    "\n",
    "    loss_ax.plot(hist.history['loss'], 'y', label='train loss')\n",
    "    loss_ax.plot(hist.history['val_loss'], 'r', label='val loss')\n",
    "\n",
    "    acc_ax.plot(hist.history['acc'], 'b', label='train acc')\n",
    "    acc_ax.plot(hist.history['val_acc'], 'g', label='val acc')\n",
    "\n",
    "    loss_ax.set_xlabel('epoch')\n",
    "    loss_ax.set_ylabel('loss')\n",
    "    acc_ax.set_ylabel('mean absolute error')\n",
    "\n",
    "    loss_ax.legend(loc='upper left')\n",
    "    acc_ax.legend(loc='lower left')\n",
    "\n",
    "    plt.show()\n",
    "\n",
    "    # 예측값을 생성합니다.\n",
    "    pred_test = model.predict(test_X)\n",
    "\n",
    "    # submission 파일을 생성합니다.\n",
    "    sample_sub = pd.read_csv('sample_submission.csv', index_col=0)\n",
    "    submission = sample_sub+pred_test\n",
    "    submission.to_csv('submission.csv')\n",
    "\n",
    "    # 학습된 모델을 저장합니다.\n",
    "    model.save('/content/drive/My Drive/model_1.h5')"
   ]
  },
  {
   "cell_type": "code",
   "execution_count": 4,
   "metadata": {
    "colab": {},
    "colab_type": "code",
    "id": "4h5AQpQpxnjT"
   },
   "outputs": [],
   "source": [
    "from keras.layers import Reshape\n",
    "\n",
    "def rnn_model(shape):\n",
    "    model = models.Sequential()\n",
    "    model.add(layers.LSTM(350, return_sequences=True, input_shape=(226, 1)))\n",
    "    model.add(layers.Activation('relu'))\n",
    "    # model.add(layers.Dropout(0.2))\n",
    "    # model.add(layers.LSTM(200, return_sequences=True))\n",
    "    # model.add(layers.Activation('relu'))\n",
    "    # model.add(layers.Dropout(0.3))\n",
    "    # model.add(layers.LSTM(100, return_sequences=True))\n",
    "    # model.add(layers.Activation('relu'))\n",
    "    # model.add(layers.Dropout(0.4))\n",
    "    # model.add(layers.LSTM(50, return_sequences=True))\n",
    "    # model.add(layers.Activation('relu'))\n",
    "    model.add(layers.Dropout(0.5))\n",
    "    # model.add(layers.LSTM(25, return_sequences=True))\n",
    "    model.add(layers.Activation('relu'))\n",
    "    model.add(layers.Flatten())\n",
    "    model.add(layers.Dense(10, activation='relu', input_shape=(4,)))\n",
    "    model.add(layers.Dense(4, activation='softmax', input_shape=(4,)))\n",
    "\n",
    "    model.compile(optimizer='nadam', loss='mse', metrics=['accuracy'])\n",
    "    return model"
   ]
  },
  {
   "cell_type": "code",
   "execution_count": 5,
   "metadata": {
    "colab": {},
    "colab_type": "code",
    "id": "Du1j0tm0v7IX"
   },
   "outputs": [],
   "source": [
    "def main():        \n",
    "    machine = Machine() \n",
    "    machine.run(epochs=100)"
   ]
  },
  {
   "cell_type": "code",
   "execution_count": null,
   "metadata": {
    "colab": {
     "base_uri": "https://localhost:8080/",
     "height": 647
    },
    "colab_type": "code",
    "id": "LJ6rz6VFv-S7",
    "outputId": "6fef764e-ac74-4ec5-b9be-59365d0ee9a7"
   },
   "outputs": [
    {
     "name": "stdout",
     "output_type": "stream",
     "text": [
      "WARNING:tensorflow:From C:\\ProgramData\\Anaconda3\\lib\\site-packages\\tensorflow_core\\python\\ops\\resource_variable_ops.py:1630: calling BaseResourceVariable.__init__ (from tensorflow.python.ops.resource_variable_ops) with constraint is deprecated and will be removed in a future version.\n",
      "Instructions for updating:\n",
      "If using Keras pass *_constraint arguments to layers.\n",
      "WARNING:tensorflow:From C:\\ProgramData\\Anaconda3\\lib\\site-packages\\keras\\backend\\tensorflow_backend.py:422: The name tf.global_variables is deprecated. Please use tf.compat.v1.global_variables instead.\n",
      "\n",
      "Train on 648000 samples, validate on 162000 samples\n",
      "Epoch 1/100\n",
      " 72000/648000 [==>...........................] - ETA: 4:18:06 - loss: 28661.7969 - accuracy: 0.2762"
     ]
    }
   ],
   "source": [
    "if __name__ == '__main__':\n",
    "    main()"
   ]
  }
 ],
 "metadata": {
  "accelerator": "GPU",
  "colab": {
   "collapsed_sections": [],
   "name": "semi-conductor.ipynb",
   "provenance": []
  },
  "kernelspec": {
   "display_name": "Python 3",
   "language": "python",
   "name": "python3"
  },
  "language_info": {
   "codemirror_mode": {
    "name": "ipython",
    "version": 3
   },
   "file_extension": ".py",
   "mimetype": "text/x-python",
   "name": "python",
   "nbconvert_exporter": "python",
   "pygments_lexer": "ipython3",
   "version": "3.7.4"
  }
 },
 "nbformat": 4,
 "nbformat_minor": 1
}
